{
 "cells": [
  {
   "cell_type": "code",
   "execution_count": 22,
   "metadata": {},
   "outputs": [],
   "source": [
    "from qiskit import *\n",
    "from qiskit.visualization import plot_histogram\n",
    "import matplotlib.pyplot as plt\n",
    "import numpy as np\n",
    "from scipy.optimize import minimize"
   ]
  },
  {
   "cell_type": "code",
   "execution_count": 256,
   "metadata": {},
   "outputs": [],
   "source": [
    "def auto_circuit(inp):\n",
    "    qc = QuantumCircuit(2)\n",
    "    #RX and RY on the 0th qubits. This is hadamard equivalent for 1st qubit. \n",
    "    #The combination of RX and RY results in our desired bell state. This gives us the probablity of 50/50 for |01> and |10\n",
    "    qc.ry(inp[0],0)\n",
    "    qc.rx(inp[1],0)\n",
    "    #RY whenever the qubit is 1 \n",
    "    qc.rx(inp[2],1)\n",
    "    #CNOT Gate after applying the hadamard equivalent \n",
    "    qc.cx(0, 1)\n",
    "    return qc"
   ]
  },
  {
   "cell_type": "code",
   "execution_count": 257,
   "metadata": {},
   "outputs": [],
   "source": [
    "#automating the simulation process for any circuit \n",
    "def sim_results(circuit, num_of_shots):\n",
    "    #using the qasm noisy simulator for a variety of shots \n",
    "    simulator = Aer.get_backend('qasm_simulator')\n",
    "    backend = Aer.get_backend('statevector_simulator')\n",
    "    sim_result = execute(circuit, backend, shots=num_of_shots).result().get_counts()\n",
    "    return sim_result"
   ]
  },
  {
   "cell_type": "code",
   "execution_count": 258,
   "metadata": {},
   "outputs": [],
   "source": [
    "total_shots=[1,10,100,1000]"
   ]
  },
  {
   "cell_type": "code",
   "execution_count": 259,
   "metadata": {},
   "outputs": [],
   "source": [
    "#Getting the probabilities of missing the shots\n",
    "def miss_rate(sim_r,shots):\n",
    "    missRate_01=sim_r.get('01',0)/shots\n",
    "    missRate_10=sim_r.get('10',0)/shots\n",
    "    sum_miss=(missRate_01-0.5)**2+(missRate_10-0.5)**2\n",
    "    return sum_miss"
   ]
  },
  {
   "cell_type": "code",
   "execution_count": 224,
   "metadata": {},
   "outputs": [],
   "source": [
    "#Optimizing to get maximum Hit rate "
   ]
  },
  {
   "cell_type": "code",
   "execution_count": 260,
   "metadata": {},
   "outputs": [],
   "source": [
    "def auto_miss_rate(cir_val, i):\n",
    "    qc = auto_circuit(cir_val)\n",
    "    probs = sim_results(qc, i)\n",
    "    return get_miss_rate(probs, i)"
   ]
  },
  {
   "cell_type": "code",
   "execution_count": 290,
   "metadata": {},
   "outputs": [],
   "source": [
    "opt = minimize(auto_miss_rate, np.random.rand(3)*np.pi, method='SLSQP', args=(total_shots[3],)) \n",
    "#We can find optimized values for each number in total_shots\n",
    "#total_shots also represents our desired iterations. In our case, desired iterations are 1000"
   ]
  },
  {
   "cell_type": "code",
   "execution_count": 291,
   "metadata": {},
   "outputs": [
    {
     "data": {
      "text/html": [
       "<pre style=\"word-wrap: normal;white-space: pre;background: #fff0;line-height: 1.1;font-family: &quot;Courier New&quot;,Courier,monospace\">     ┌────────────┐┌─────────────┐     \n",
       "q_0: ┤ RY(1.4852) ├┤ RX(0.15128) ├──■──\n",
       "     ├────────────┤└─────────────┘┌─┴─┐\n",
       "q_1: ┤ RX(2.9348) ├───────────────┤ X ├\n",
       "     └────────────┘               └───┘</pre>"
      ],
      "text/plain": [
       "     ┌────────────┐┌─────────────┐     \n",
       "q_0: ┤ RY(1.4852) ├┤ RX(0.15128) ├──■──\n",
       "     ├────────────┤└─────────────┘┌─┴─┐\n",
       "q_1: ┤ RX(2.9348) ├───────────────┤ X ├\n",
       "     └────────────┘               └───┘"
      ]
     },
     "execution_count": 291,
     "metadata": {},
     "output_type": "execute_result"
    }
   ],
   "source": [
    "#Circuit that uses optimized values for RX and RY gates \n",
    "circuit=auto_circuit(opt.x)\n",
    "circuit.draw()\n",
    "#Optiimized values for RY and RX of qubit 0 should be between 0.5 to 1.5\n",
    "#Optiomized value for RX of qubit 1 should be around 2.8 to 3.2"
   ]
  },
  {
   "cell_type": "code",
   "execution_count": 292,
   "metadata": {},
   "outputs": [],
   "source": [
    "probs=sim_results(circuit,total_shots[3])"
   ]
  },
  {
   "cell_type": "code",
   "execution_count": 293,
   "metadata": {},
   "outputs": [
    {
     "data": {
      "image/png": "[encoded data removed]",
      "text/plain": [
       "<Figure size 504x360 with 1 Axes>"
      ]
     },
     "execution_count": 293,
     "metadata": {},
     "output_type": "execute_result"
    }
   ],
   "source": [
    "plot_histogram(probs)"
   ]
  },
  {
   "cell_type": "code",
   "execution_count": null,
   "metadata": {},
   "outputs": [],
   "source": []
  }
 ],
 "metadata": {
  "kernelspec": {
   "display_name": "Python 3",
   "language": "python",
   "name": "python3"
  },
  "language_info": {
   "codemirror_mode": {
    "name": "ipython",
    "version": 3
   },
   "file_extension": ".py",
   "mimetype": "text/x-python",
   "name": "python",
   "nbconvert_exporter": "python",
   "pygments_lexer": "ipython3",
   "version": "3.8.5"
  }
 },
 "nbformat": 4,
 "nbformat_minor": 4
}
