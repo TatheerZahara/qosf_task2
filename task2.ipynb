{
 "cells": [
  {
   "cell_type": "code",
   "execution_count": 22,
   "metadata": {},
   "outputs": [],
   "source": [
    "from qiskit import *\n",
    "from qiskit.visualization import plot_histogram\n",
    "import matplotlib.pyplot as plt\n",
    "import numpy as np\n",
    "from scipy.optimize import minimize"
   ]
  },
  {
   "cell_type": "code",
   "execution_count": 146,
   "metadata": {},
   "outputs": [],
   "source": [
    "def auto_circuit(inp):\n",
    "    qc = QuantumCircuit(2)\n",
    "    #RX and RY on the 0th qubits. This is hadamard equivalent for 1st qubit. \n",
    "    #The combination of RX and RY results in our desired bell state. This gives us the probablity of 50/50 for |01> and |10\n",
    "    qc.ry(inp,0)\n",
    "    qc.rx(inp,0)\n",
    "    #RY whenever the qubit is 1 \n",
    "    qc.ry(inp,1)\n",
    "    #CNOT Gate after applying the hadamard equivalent \n",
    "    qc.cx(0, 1)\n",
    "    return qc"
   ]
  },
  {
   "cell_type": "code",
   "execution_count": 147,
   "metadata": {},
   "outputs": [],
   "source": [
    "def sim_results(circuit, num_of_shots):\n",
    "    #using the qasm noisy simulator for a variety of shots \n",
    "    simulator = Aer.get_backend('qasm_simulator')\n",
    "    backend = Aer.get_backend('statevector_simulator')\n",
    "    sim_result = execute(qc, backend, shots=1000).result().get_counts()\n",
    "    return sim_result"
   ]
  },
  {
   "cell_type": "code",
   "execution_count": 160,
   "metadata": {},
   "outputs": [],
   "source": [
    "total_shots=[1,10,100,1000]\n"
   ]
  },
  {
   "cell_type": "code",
   "execution_count": 161,
   "metadata": {},
   "outputs": [],
   "source": [
    "#Getting the probabilities of missing the shots\n",
    "def miss_rate(sim_r,shots):\n",
    "    missRate_01=sim_r.get('01',0)/shots\n",
    "    missRate_10=sim_r.get('10',0)/shots\n",
    "    sum_miss=(missRate_01-0.5)**2+(missRate_10-0.5)**2\n",
    "    return sum_miss"
   ]
  },
  {
   "cell_type": "code",
   "execution_count": 107,
   "metadata": {},
   "outputs": [],
   "source": [
    "#Optimizing to get maximum Hit rate "
   ]
  },
  {
   "cell_type": "code",
   "execution_count": 162,
   "metadata": {},
   "outputs": [],
   "source": [
    "def auto_miss_rate(cir_val, i):\n",
    "    qc = auto_circuit(cir_val)\n",
    "    probs = sim_results(qc, i)\n",
    "    return get_miss_rate(probs, i)"
   ]
  },
  {
   "cell_type": "code",
   "execution_count": 163,
   "metadata": {},
   "outputs": [
    {
     "data": {
      "text/plain": [
       "     fun: 0.24926271640688827\n",
       "     jac: array([0.])\n",
       " message: 'Optimization terminated successfully'\n",
       "    nfev: 2\n",
       "     nit: 1\n",
       "    njev: 1\n",
       "  status: 0\n",
       " success: True\n",
       "       x: array([2.30971834])"
      ]
     },
     "execution_count": 163,
     "metadata": {},
     "output_type": "execute_result"
    }
   ],
   "source": [
    "opt = minimize(input_to_loss, np.random.rand()*np.pi, method='SLSQP', args=(total_shots[3],))\n",
    "opt"
   ]
  },
  {
   "cell_type": "code",
   "execution_count": 164,
   "metadata": {},
   "outputs": [],
   "source": [
    "#Circuit that uses optimized values for RX and RY gates \n",
    "circuit=auto_circuit(opt.x)\n"
   ]
  },
  {
   "cell_type": "code",
   "execution_count": 165,
   "metadata": {},
   "outputs": [
    {
     "data": {
      "image/png": "[encoded data removed]",
      "text/plain": [
       "<Figure size 504x360 with 1 Axes>"
      ]
     },
     "execution_count": 165,
     "metadata": {},
     "output_type": "execute_result"
    }
   ],
   "source": [
    "probs=sim_results(circuit,total_shots[3])\n",
    "plot_histogram(probs)"
   ]
  },
  {
   "cell_type": "code",
   "execution_count": null,
   "metadata": {},
   "outputs": [],
   "source": []
  }
 ],
 "metadata": {
  "kernelspec": {
   "display_name": "Python 3",
   "language": "python",
   "name": "python3"
  },
  "language_info": {
   "codemirror_mode": {
    "name": "ipython",
    "version": 3
   },
   "file_extension": ".py",
   "mimetype": "text/x-python",
   "name": "python",
   "nbconvert_exporter": "python",
   "pygments_lexer": "ipython3",
   "version": "3.8.5"
  }
 },
 "nbformat": 4,
 "nbformat_minor": 4
}
